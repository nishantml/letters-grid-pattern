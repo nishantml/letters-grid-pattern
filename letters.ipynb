{
 "cells": [
  {
   "cell_type": "code",
   "execution_count": 84,
   "metadata": {},
   "outputs": [],
   "source": [
    "def n_letter(size,space='',letter='*'):\n",
    "    matrix = [[' ']*size for i in range(size)]\n",
    "    \n",
    "    for i in range(size):\n",
    "        matrix[i][0] = letter\n",
    "        matrix[i][i] = letter\n",
    "        matrix[i][-1] = letter\n",
    "        \n",
    "    for i in matrix:\n",
    "        print(space.join(i))\n",
    "        \n",
    "\n",
    "def o_letter(size,space='',letter='*'):\n",
    "    matrix = [[' ']*size for i in range(size)]\n",
    "    \n",
    "    for i in range(1,size-1):\n",
    "        matrix[i][0] = letter\n",
    "        matrix[-1][i] = letter\n",
    "        matrix[0][i] = letter\n",
    "        matrix[i][-1] = letter\n",
    "        \n",
    "    for i in matrix:\n",
    "        print(space.join(i))\n",
    "        \n",
    "def p_letter(size,space='',letter='*'):\n",
    "    matrix = [[' ']*size for i in range(size)]\n",
    "    mid = int(size/2)\n",
    "    for i in range(size):\n",
    "        matrix[i][0] = letter\n",
    "        matrix[0][i] = letter\n",
    "        matrix[mid][i] = letter\n",
    "    for i in range(mid+1):\n",
    "        matrix[i][-1] = letter\n",
    "        \n",
    "    for i in matrix:\n",
    "        print(space.join(i))\n",
    "        \n",
    "def q_letter(size,space='',letter='*'):\n",
    "    matrix = [[' ']*(size) for i in range(size)]\n",
    "    mid = int(size/2)\n",
    "    for i in range(size-1):\n",
    "        matrix[i][0] = letter\n",
    "        matrix[-2][i] = letter\n",
    "        matrix[0][i] = letter\n",
    "        matrix[i][-2] = letter\n",
    "        matrix[-1][-1] = letter\n",
    "    matrix[2][2] = letter\n",
    "        \n",
    "    for i in matrix:\n",
    "        print(space.join(i))\n",
    "\n",
    "def r_letter(size,space='',letter='*'):\n",
    "    matrix = [[' ']*(size) for i in range(size)]\n",
    "    mid = int(size/2)\n",
    "    for i in range(size):\n",
    "        matrix[i][0] = letter\n",
    "        matrix[0][i] = letter\n",
    "        matrix[mid][i]=letter\n",
    "        \n",
    "    for i in range(mid):\n",
    "        matrix[i][size-1] = '*'\n",
    "        \n",
    "    for i in matrix:\n",
    "        print(space.join(i))"
   ]
  },
  {
   "cell_type": "code",
   "execution_count": 86,
   "metadata": {},
   "outputs": [
    {
     "name": "stdout",
     "output_type": "stream",
     "text": [
      "* * * * *\n",
      "*       *\n",
      "* * * * *\n",
      "*        \n",
      "*        \n",
      "\n",
      "*       *\n",
      "* *     *\n",
      "*   *   *\n",
      "*     * *\n",
      "*       *\n",
      "\n",
      "* * * *  \n",
      "*     *  \n",
      "*   * *  \n",
      "* * * *  \n",
      "        *\n",
      "\n",
      "  * * *  \n",
      "*       *\n",
      "*       *\n",
      "*       *\n",
      "  * * *  \n",
      "\n",
      "* * * * *\n",
      "*       *\n",
      "* * * * *\n",
      "*        \n",
      "*        \n"
     ]
    }
   ],
   "source": [
    "p_letter(5,' ')\n",
    "print(\"\")\n",
    "n_letter(5,' ')\n",
    "print(\"\")\n",
    "q_letter(5,' ')\n",
    "print(\"\")\n",
    "o_letter(5,' ')\n",
    "print(\"\")\n",
    "r_letter(5,' ')\n",
    "\n"
   ]
  },
  {
   "cell_type": "code",
   "execution_count": 97,
   "metadata": {},
   "outputs": [],
   "source": [
    "def r_letter(size,space='',letter='*'):\n",
    "    count=size-1\n",
    "    matrix = [[' ']*(size) for i in range(size)]\n",
    "    mid = int(size/2)\n",
    "    for i in range(size):\n",
    "        matrix[i][0] = letter\n",
    "        matrix[0][i] = letter\n",
    "        matrix[mid][i]=letter\n",
    "        \n",
    "    for i in range(mid):\n",
    "        count-=count\n",
    "        matrix[i][size-1] = letter\n",
    "        matrix[count][count] = '#'\n",
    "        \n",
    "\n",
    "        \n",
    "    for i in matrix:\n",
    "        print(space.join(i))"
   ]
  },
  {
   "cell_type": "code",
   "execution_count": 98,
   "metadata": {},
   "outputs": [
    {
     "name": "stdout",
     "output_type": "stream",
     "text": [
      "#****\n",
      "*   *\n",
      "*****\n",
      "*    \n",
      "*    \n"
     ]
    }
   ],
   "source": [
    "r_letter(5,'')"
   ]
  },
  {
   "cell_type": "code",
   "execution_count": null,
   "metadata": {},
   "outputs": [],
   "source": []
  }
 ],
 "metadata": {
  "kernelspec": {
   "display_name": "Python 3",
   "language": "python",
   "name": "python3"
  },
  "language_info": {
   "codemirror_mode": {
    "name": "ipython",
    "version": 3
   },
   "file_extension": ".py",
   "mimetype": "text/x-python",
   "name": "python",
   "nbconvert_exporter": "python",
   "pygments_lexer": "ipython3",
   "version": "3.6.5"
  }
 },
 "nbformat": 4,
 "nbformat_minor": 2
}
